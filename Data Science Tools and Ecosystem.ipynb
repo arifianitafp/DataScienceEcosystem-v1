{
  "metadata": {
    "language_info": {
      "codemirror_mode": {
        "name": "python",
        "version": 3
      },
      "file_extension": ".py",
      "mimetype": "text/x-python",
      "name": "python",
      "nbconvert_exporter": "python",
      "pygments_lexer": "ipython3",
      "version": "3.8"
    },
    "kernelspec": {
      "name": "python",
      "display_name": "Python (Pyodide)",
      "language": "python"
    }
  },
  "nbformat_minor": 4,
  "nbformat": 4,
  "cells": [
    {
      "cell_type": "code",
      "source": "print (\"In this notebook, Data Science Tools and Ecosystem are summarized\")",
      "metadata": {
        "trusted": true
      },
      "execution_count": 1,
      "outputs": [
        {
          "name": "stdout",
          "text": "In this notebook, Data Science Tools and Ecosystem are summarized\n",
          "output_type": "stream"
        }
      ]
    },
    {
      "cell_type": "code",
      "source": "languanges = ['Python',\n             'SQL',\n             'Java',\n             'Julia',\n             'Scala',\n             'C/C++',\n             'JavaScript']\n\n# sort the languanges\nlanguanges.sort()\n\n# print languanges\nprint('Some of the popular languages that Data Scientists use are:', languanges)",
      "metadata": {
        "trusted": true
      },
      "execution_count": 9,
      "outputs": [
        {
          "name": "stdout",
          "text": "Some of the popular languages that Data Scientists use are: ['C/C++', 'Java', 'JavaScript', 'Julia', 'Python', 'SQL', 'Scala']\n",
          "output_type": "stream"
        }
      ]
    },
    {
      "cell_type": "markdown",
      "source": "",
      "metadata": {}
    },
    {
      "cell_type": "code",
      "source": "",
      "metadata": {},
      "execution_count": null,
      "outputs": []
    }
  ]
}